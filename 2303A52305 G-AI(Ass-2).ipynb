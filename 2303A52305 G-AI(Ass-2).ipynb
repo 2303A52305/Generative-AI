{
  "nbformat": 4,
  "nbformat_minor": 0,
  "metadata": {
    "colab": {
      "provenance": []
    },
    "kernelspec": {
      "name": "python3",
      "display_name": "Python 3"
    },
    "language_info": {
      "name": "python"
    }
  },
  "cells": [
    {
      "cell_type": "code",
      "execution_count": 3,
      "metadata": {
        "colab": {
          "base_uri": "https://localhost:8080/"
        },
        "id": "EFQ4IBk7uA8t",
        "outputId": "fd954085-4265-4f40-dda7-b95e3ccc028c"
      },
      "outputs": [
        {
          "output_type": "stream",
          "name": "stdout",
          "text": [
            "Optimal solution found:\n",
            "Units of A to produce: 2.00\n",
            "Units of B to produce: 3.00\n",
            "Maximum profit: Rs 27.00\n"
          ]
        }
      ],
      "source": [
        "from scipy.optimize import linprog\n",
        "profit_coeffs = [-6, -5]\n",
        "\n",
        "constraints = [\n",
        "    [1, 1],\n",
        "    [3, 2],\n",
        "]\n",
        "\n",
        "rhs = [5, 12]\n",
        "\n",
        "bounds = [(0, None), (0, None)]\n",
        "\n",
        "result = linprog(c=profit_coeffs, A_ub=constraints, b_ub=rhs, bounds=bounds, method='highs')\n",
        "\n",
        "if result.success:\n",
        "    print(\"Optimal solution found:\")\n",
        "    print(f\"Units of A to produce: {result.x[0]:.2f}\")\n",
        "    print(f\"Units of B to produce: {result.x[1]:.2f}\")\n",
        "    print(f\"Maximum profit: Rs {abs(result.fun):.2f}\")\n",
        "else:\n",
        "    print(\"No optimal solution found.\")"
      ]
    },
    {
      "cell_type": "code",
      "source": [
        "from scipy.optimize import linprog\n",
        "\n",
        "profit_coeffs = [-50, -120]\n",
        "\n",
        "constraints = [\n",
        "    [7000, 2000],\n",
        "    [10, 30],\n",
        "    [1, 1],\n",
        "]\n",
        "\n",
        "rhs = [700000, 1200, 110]\n",
        "\n",
        "bounds = [(0, None), (0, None)]\n",
        "\n",
        "result = linprog(c=profit_coeffs, A_ub=constraints, b_ub=rhs, bounds=bounds, method='highs')\n",
        "\n",
        "if result.success:\n",
        "    print(\"Optimal solution found:\")\n",
        "    print(f\"Hectares of Wheat to grow: {result.x[0]:.2f}\")\n",
        "    print(f\"Hectares of Barley to grow: {result.x[1]:.2f}\")\n",
        "    print(f\"Maximum profit: Rs {abs(result.fun):.2f}\")\n",
        "else:\n",
        "    print(\"No optimal solution found.\")"
      ],
      "metadata": {
        "colab": {
          "base_uri": "https://localhost:8080/"
        },
        "id": "vemj2rb6ufFm",
        "outputId": "c19e168a-af1e-4bd3-edaf-47db0ca9bd16"
      },
      "execution_count": 2,
      "outputs": [
        {
          "output_type": "stream",
          "name": "stdout",
          "text": [
            "Optimal solution found:\n",
            "Hectares of Wheat to grow: 97.89\n",
            "Hectares of Barley to grow: 7.37\n",
            "Maximum profit: Rs 5778.95\n"
          ]
        }
      ]
    }
  ]
}